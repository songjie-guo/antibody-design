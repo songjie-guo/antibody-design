{
  "cells": [
    {
      "cell_type": "markdown",
      "metadata": {
        "id": "view-in-github",
        "colab_type": "text"
      },
      "source": [
        "<a href=\"https://colab.research.google.com/github/songjie-guo/antibody-design/blob/main/Antibody_Design.ipynb\" target=\"_parent\"><img src=\"https://colab.research.google.com/assets/colab-badge.svg\" alt=\"Open In Colab\"/></a>"
      ]
    },
    {
      "cell_type": "markdown",
      "metadata": {
        "id": "kKtHN6FrU-X9"
      },
      "source": [
        "## Prepare Environments"
      ]
    },
    {
      "cell_type": "code",
      "execution_count": null,
      "metadata": {
        "id": "NopIdQuIMVe8"
      },
      "outputs": [],
      "source": [
        "import os\n",
        "import sys\n",
        "import torch\n",
        "\n",
        "PYTHON = f\"{sys.version_info.major}.{sys.version_info.minor}\"\n",
        "\n",
        "TORCH_version = torch.__version__\n",
        "TORCH = TORCH_version.split('+')[0]\n",
        "\n",
        "CUDA_version = torch.version.cuda\n",
        "CUDA = 'cu' + CUDA_version.replace('.', '')"
      ]
    },
    {
      "cell_type": "code",
      "execution_count": null,
      "metadata": {
        "id": "zYBFEiccLi_9",
        "colab": {
          "base_uri": "https://localhost:8080/"
        },
        "outputId": "e468b05c-8344-4d18-a037-c60205e680a7"
      },
      "outputs": [
        {
          "output_type": "execute_result",
          "data": {
            "text/plain": [
              "0"
            ]
          },
          "metadata": {},
          "execution_count": 12
        }
      ],
      "source": [
        "os.system(\"pip install -q 'igfold>=0.3.0'\")\n",
        "os.system(\"pip install -q --no-warn-conflicts 'py3Dmol>=2.0.1' matplotlib seaborn\")"
      ]
    },
    {
      "cell_type": "code",
      "execution_count": null,
      "metadata": {
        "colab": {
          "base_uri": "https://localhost:8080/"
        },
        "id": "Z-JYnfHEK7Wq",
        "outputId": "4ef08d85-6f39-46e1-8d5d-c1926ffb61cd"
      },
      "outputs": [
        {
          "output_type": "execute_result",
          "data": {
            "text/plain": [
              "256"
            ]
          },
          "metadata": {},
          "execution_count": 13
        }
      ],
      "source": [
        "# approximately 42min, can I change it to pip ???\n",
        "os.system(\"pip install -q conda\")\n",
        "os.system(f\"conda install -y -q -c conda-forge openmm=7.7.0 python='{PYTHON}' pdbfixer 2>&1 1>/dev/null\")\n",
        "os.system(f\"conda install -y -q -c bioconda abnumber python='{PYTHON}' 2>&1 1>/dev/null\")"
      ]
    },
    {
      "cell_type": "code",
      "execution_count": null,
      "metadata": {
        "id": "tol8LyPoPLYy",
        "colab": {
          "base_uri": "https://localhost:8080/"
        },
        "outputId": "bf3f1e36-2eaa-418f-fc0e-69fc9e7d1b1c"
      },
      "outputs": [
        {
          "output_type": "execute_result",
          "data": {
            "text/plain": [
              "0"
            ]
          },
          "metadata": {},
          "execution_count": 5
        }
      ],
      "source": [
        "os.system(f\"pip install -q torch-scatter     -f https://pytorch-geometric.com/whl/torch-{TORCH}+{CUDA}.html\")\n",
        "os.system(f\"pip install -q torch-sparse      -f https://pytorch-geometric.com/whl/torch-{TORCH}+{CUDA}.html\")\n",
        "os.system(f\"pip install -q torch-cluster     -f https://pytorch-geometric.com/whl/torch-{TORCH}+{CUDA}.html\")\n",
        "os.system(f\"pip install -q torch-spline-conv -f https://pytorch-geometric.com/whl/torch-{TORCH}+{CUDA}.html\")\n",
        "os.system(f\"git clone -q https://github.com/oxpig/SCALOP.git\")\n",
        "os.system(f\"pip install SCALOP/\")"
      ]
    },
    {
      "cell_type": "markdown",
      "metadata": {
        "id": "sROSLg8kUe0J"
      },
      "source": [
        "## Prepare files & codes"
      ]
    },
    {
      "cell_type": "code",
      "execution_count": null,
      "metadata": {
        "id": "QI3kYeTGUe0K"
      },
      "outputs": [],
      "source": [
        "import os, sys, shutil\n",
        "if not os.path.isdir(\"models\"):\n",
        "    os.system('git clone https://github.com/songjie-guo/antibody-design.git')\n",
        "    shutil.move('antibody-design/models', 'models')\n",
        "    shutil.rmtree('antibody-design')\n",
        "\n",
        "if not os.path.isdir(\"models/ProDesign\"):\n",
        "    os.chdir('./models')\n",
        "    os.system(\"git clone -q https://github.com/A4Bio/ProDesign.git\")\n",
        "    os.makedirs('ProDesign/data/cath', exist_ok=True)\n",
        "    os.makedirs('ProDesign/data/ts', exist_ok=True)\n",
        "    os.system('wget -O ProDesign/data/cath.zip https://github.com/A4Bio/PiFold/releases/download/Training%26Data/cath4.2.zip')\n",
        "    os.system('unzip ProDesign/data/cath.zip -d ProDesign/data/cath')\n",
        "    os.system('mv ProDesign/data/cath/cath4.2/* ProDesign/data/cath/')\n",
        "    os.system('wget -O ProDesign/data/ts.zip https://github.com/A4Bio/PiFold/releases/download/Training%26Data/ts.zip')\n",
        "    os.system('unzip ProDesign/data/ts.zip -d ProDesign/data/')\n",
        "    os.makedirs('ProDesign/results', exist_ok=True)\n",
        "    os.system('wget -O ProDesign/results/checkpoint.pth https://github.com/A4Bio/PiFold/releases/download/Training%26Data/checkpoint.pth')\n",
        "    os.chdir('../')\n",
        "if not os.path.isdir('cache'):\n",
        "    os.mkdir('cache')\n",
        "if not os.path.isdir('results'):\n",
        "    os.mkdir('results')"
      ]
    },
    {
      "cell_type": "code",
      "source": [
        "# import importlib\n",
        "\n",
        "# def is_package_installed(package_name):\n",
        "#     try:\n",
        "#         importlib.import_module(package_name)\n",
        "#         return True\n",
        "#     except ImportError:\n",
        "#         return False\n",
        "\n",
        "# # Example usage:\n",
        "# if is_package_installed('scalop'):\n",
        "#     print('scalop is installed')\n",
        "# else:\n",
        "#     print('scalop is not installed')"
      ],
      "metadata": {
        "colab": {
          "base_uri": "https://localhost:8080/"
        },
        "id": "8FenIIGhin0z",
        "outputId": "bf29c209-54c9-487d-9b09-fbcc052b6aa1"
      },
      "execution_count": null,
      "outputs": [
        {
          "output_type": "stream",
          "name": "stdout",
          "text": [
            "scalop is not installed\n"
          ]
        }
      ]
    },
    {
      "cell_type": "code",
      "source": [
        "pip list"
      ],
      "metadata": {
        "colab": {
          "base_uri": "https://localhost:8080/"
        },
        "id": "pcSAdiKYitJL",
        "outputId": "5f7a4440-d228-4258-f021-2cc5aedf53d3"
      },
      "execution_count": null,
      "outputs": [
        {
          "output_type": "stream",
          "name": "stdout",
          "text": [
            "Package                  Version\n",
            "------------------------ ----------------\n",
            "abnumber                 0.3.2\n",
            "aiohttp                  3.8.4\n",
            "aiosignal                1.3.1\n",
            "antiberty                0.1.2\n",
            "async-timeout            4.0.2\n",
            "attrs                    23.1.0\n",
            "biopython                1.81\n",
            "boltons                  23.0.0\n",
            "brotlipy                 0.7.0\n",
            "certifi                  2023.5.7\n",
            "cffi                     1.15.1\n",
            "charset-normalizer       2.1.1\n",
            "cmake                    3.26.4\n",
            "colorama                 0.4.6\n",
            "conda                    23.5.0\n",
            "conda-package-handling   2.0.2\n",
            "conda_package_streaming  0.7.0\n",
            "contourpy                1.1.0\n",
            "cryptography             39.0.2\n",
            "cycler                   0.11.0\n",
            "einops                   0.6.1\n",
            "filelock                 3.12.2\n",
            "fonttools                4.41.0\n",
            "frozenlist               1.4.0\n",
            "fsspec                   2023.6.0\n",
            "huggingface-hub          0.16.4\n",
            "idna                     3.4\n",
            "igfold                   0.3.2\n",
            "Jinja2                   3.1.2\n",
            "jsonpatch                1.32\n",
            "jsonpointer              2.0\n",
            "kiwisolver               1.4.4\n",
            "libmambapy               1.4.7\n",
            "lightning-utilities      0.9.0\n",
            "lit                      16.0.6\n",
            "mamba                    1.4.7\n",
            "MarkupSafe               2.1.3\n",
            "matplotlib               3.7.2\n",
            "mpmath                   1.3.0\n",
            "multidict                6.0.4\n",
            "networkx                 3.1\n",
            "numpy                    1.25.1\n",
            "nvidia-cublas-cu11       11.10.3.66\n",
            "nvidia-cuda-cupti-cu11   11.7.101\n",
            "nvidia-cuda-nvrtc-cu11   11.7.99\n",
            "nvidia-cuda-runtime-cu11 11.7.99\n",
            "nvidia-cudnn-cu11        8.5.0.96\n",
            "nvidia-cufft-cu11        10.9.0.58\n",
            "nvidia-curand-cu11       10.2.10.91\n",
            "nvidia-cusolver-cu11     11.4.0.1\n",
            "nvidia-cusparse-cu11     11.7.4.91\n",
            "nvidia-nccl-cu11         2.14.3\n",
            "nvidia-nvtx-cu11         11.7.91\n",
            "OpenMM                   7.7.0\n",
            "packaging                23.1\n",
            "pandas                   2.0.3\n",
            "pdbfixer                 1.8.1\n",
            "Pillow                   10.0.0\n",
            "pip                      23.0.1\n",
            "pluggy                   1.0.0\n",
            "protobuf                 4.23.4\n",
            "py3Dmol                  2.0.3\n",
            "pycosat                  0.6.4\n",
            "pycparser                2.21\n",
            "pyOpenSSL                23.0.0\n",
            "pyparsing                3.0.9\n",
            "PySocks                  1.7.1\n",
            "python-dateutil          2.8.2\n",
            "pytorch-lightning        1.8.6\n",
            "pytz                     2023.3\n",
            "PyYAML                   6.0\n",
            "regex                    2023.6.3\n",
            "requests                 2.28.2\n",
            "ruamel.yaml              0.17.32\n",
            "ruamel.yaml.clib         0.2.7\n",
            "safetensors              0.3.1\n",
            "scalop                   1.0\n",
            "scipy                    1.11.1\n",
            "seaborn                  0.12.2\n",
            "setuptools               65.6.3\n",
            "six                      1.16.0\n",
            "sympy                    1.12\n",
            "tensorboardX             2.6.1\n",
            "tokenizers               0.13.3\n",
            "toolz                    0.12.0\n",
            "torch                    2.0.1\n",
            "torch-cluster            1.6.1+pt20cu118\n",
            "torch-scatter            2.1.1+pt20cu118\n",
            "torch-sparse             0.6.17+pt20cu118\n",
            "torch-spline-conv        1.2.2+pt20cu118\n",
            "torchmetrics             1.0.0\n",
            "tqdm                     4.65.0\n",
            "transformers             4.30.2\n",
            "triton                   2.0.0\n",
            "typing_extensions        4.7.1\n",
            "tzdata                   2023.3\n",
            "urllib3                  1.26.15\n",
            "wheel                    0.38.4\n",
            "yarl                     1.9.2\n",
            "zstandard                0.19.0\n"
          ]
        }
      ]
    },
    {
      "cell_type": "code",
      "execution_count": null,
      "metadata": {
        "id": "qZLWE2jbUe0M",
        "colab": {
          "base_uri": "https://localhost:8080/",
          "height": 510
        },
        "outputId": "adad7f79-9bd4-40f8-8747-7864fca489a3"
      },
      "outputs": [
        {
          "output_type": "error",
          "ename": "ModuleNotFoundError",
          "evalue": "ignored",
          "traceback": [
            "\u001b[0;31m---------------------------------------------------------------------------\u001b[0m",
            "\u001b[0;31mModuleNotFoundError\u001b[0m                       Traceback (most recent call last)",
            "\u001b[0;32m<ipython-input-2-0398d156bd47>\u001b[0m in \u001b[0;36m<cell line: 4>\u001b[0;34m()\u001b[0m\n\u001b[1;32m      2\u001b[0m \u001b[0;32mfrom\u001b[0m \u001b[0migfold\u001b[0m\u001b[0;34m.\u001b[0m\u001b[0mutils\u001b[0m\u001b[0;34m.\u001b[0m\u001b[0mvisualize\u001b[0m \u001b[0;32mimport\u001b[0m \u001b[0;34m*\u001b[0m\u001b[0;34m\u001b[0m\u001b[0;34m\u001b[0m\u001b[0m\n\u001b[1;32m      3\u001b[0m \u001b[0;32mfrom\u001b[0m \u001b[0mmodels\u001b[0m\u001b[0;34m.\u001b[0m\u001b[0mpifold_model\u001b[0m \u001b[0;32mimport\u001b[0m \u001b[0mexp\u001b[0m\u001b[0;34m\u001b[0m\u001b[0;34m\u001b[0m\u001b[0m\n\u001b[0;32m----> 4\u001b[0;31m \u001b[0;32mfrom\u001b[0m \u001b[0mmodels\u001b[0m\u001b[0;34m.\u001b[0m\u001b[0mCDR\u001b[0m \u001b[0;32mimport\u001b[0m \u001b[0mcut_CDR\u001b[0m\u001b[0;34m\u001b[0m\u001b[0;34m\u001b[0m\u001b[0m\n\u001b[0m\u001b[1;32m      5\u001b[0m \u001b[0;32mfrom\u001b[0m \u001b[0mmodels\u001b[0m\u001b[0;34m.\u001b[0m\u001b[0mpredPDB\u001b[0m \u001b[0;32mimport\u001b[0m \u001b[0mpred_pdb\u001b[0m\u001b[0;34m\u001b[0m\u001b[0;34m\u001b[0m\u001b[0m\n\u001b[1;32m      6\u001b[0m \u001b[0;32mfrom\u001b[0m \u001b[0mmodels\u001b[0m\u001b[0;34m.\u001b[0m\u001b[0mpredFasta\u001b[0m \u001b[0;32mimport\u001b[0m \u001b[0mpred_fasta\u001b[0m\u001b[0;34m\u001b[0m\u001b[0;34m\u001b[0m\u001b[0m\n",
            "\u001b[0;32m/content/models/CDR.py\u001b[0m in \u001b[0;36m<module>\u001b[0;34m\u001b[0m\n\u001b[0;32m----> 1\u001b[0;31m \u001b[0;32mimport\u001b[0m \u001b[0mscalop\u001b[0m\u001b[0;34m\u001b[0m\u001b[0;34m\u001b[0m\u001b[0m\n\u001b[0m\u001b[1;32m      2\u001b[0m \u001b[0;32mfrom\u001b[0m \u001b[0mscalop\u001b[0m\u001b[0;34m.\u001b[0m\u001b[0mpredict\u001b[0m \u001b[0;32mimport\u001b[0m \u001b[0massign\u001b[0m\u001b[0;34m\u001b[0m\u001b[0;34m\u001b[0m\u001b[0m\n\u001b[1;32m      3\u001b[0m \u001b[0;34m\u001b[0m\u001b[0m\n\u001b[1;32m      4\u001b[0m \u001b[0;32mdef\u001b[0m \u001b[0mcut_CDR\u001b[0m\u001b[0;34m(\u001b[0m\u001b[0mH_seq\u001b[0m\u001b[0;34m,\u001b[0m\u001b[0mL_seq\u001b[0m\u001b[0;34m,\u001b[0m\u001b[0mnum_scheme\u001b[0m\u001b[0;34m,\u001b[0m\u001b[0mdef_scheme\u001b[0m\u001b[0;34m)\u001b[0m\u001b[0;34m:\u001b[0m\u001b[0;34m\u001b[0m\u001b[0;34m\u001b[0m\u001b[0m\n\u001b[1;32m      5\u001b[0m     \u001b[0mH_cut\u001b[0m \u001b[0;34m=\u001b[0m \u001b[0massign\u001b[0m\u001b[0;34m(\u001b[0m\u001b[0mH_seq\u001b[0m\u001b[0;34m,\u001b[0m\u001b[0mnum_scheme\u001b[0m\u001b[0;34m,\u001b[0m\u001b[0mdef_scheme\u001b[0m\u001b[0;34m)\u001b[0m\u001b[0;34m[\u001b[0m\u001b[0;36m0\u001b[0m\u001b[0;34m]\u001b[0m\u001b[0;34m[\u001b[0m\u001b[0;34m'outputs'\u001b[0m\u001b[0;34m]\u001b[0m\u001b[0;34m\u001b[0m\u001b[0;34m\u001b[0m\u001b[0m\n",
            "\u001b[0;31mModuleNotFoundError\u001b[0m: No module named 'scalop'",
            "",
            "\u001b[0;31m---------------------------------------------------------------------------\u001b[0;32m\nNOTE: If your import is failing due to a missing package, you can\nmanually install dependencies using either !pip or !apt.\n\nTo view examples of installing some common dependencies, click the\n\"Open Examples\" button below.\n\u001b[0;31m---------------------------------------------------------------------------\u001b[0m\n"
          ],
          "errorDetails": {
            "actions": [
              {
                "action": "open_url",
                "actionText": "Open Examples",
                "url": "/notebooks/snippets/importing_libraries.ipynb"
              }
            ]
          }
        }
      ],
      "source": [
        "# if error, please resart the runtime\n",
        "from igfold.utils.visualize import *\n",
        "from models.pifold_model import exp\n",
        "from models.CDR import cut_CDR\n",
        "from models.predPDB import pred_pdb\n",
        "from models.predFasta import pred_fasta\n",
        "from models.replace import replace"
      ]
    },
    {
      "cell_type": "code",
      "execution_count": null,
      "metadata": {
        "cellView": "form",
        "id": "_WLGdxU-Ue0N"
      },
      "outputs": [],
      "source": [
        "#@title Set Input parameters\n",
        "H_seq = \"QVQLQESGPGLVAPSQSLSITCTVSGFSLTGYGVNWVRQPPGKGLEWLGMIWGDGNTDYNSALKSRLSISKDNSKSQVFLKMNSLHTDDTARYYCARERDYRLDYWGQGTTLTVSS\" #@param {type:\"string\"}\n",
        "L_seq = \"DIVLTQSPASLSASVGETVTITCRASGNIHNYLAWYQQKQGKSPQLLVYYTTTLADGVPSRFSGSGSGTQYSLKINSLQPEDFGSYYCQHFWSTPRTFGGGTKLEIK\" #@param {type:\"string\"}\n",
        "num_loops = 5 #@param {type:\"integer\"}\n",
        "\n",
        "# cache_path = 'cache'\n",
        "# result_path = 'results'\n",
        "\n",
        "num_scheme = 'chothia'\n",
        "def_scheme = 'chothia'\n",
        "\n",
        "if_H1 = True #@param {type:\"boolean\"}\n",
        "if_H2 = True #@param {type:\"boolean\"}\n",
        "if_H3 = True #@param {type:\"boolean\"}\n",
        "if_L1 = True #@param {type:\"boolean\"}\n",
        "if_L2 = True #@param {type:\"boolean\"}\n",
        "if_L3 = True #@param {type:\"boolean\"}\n",
        "\n",
        "# igfold model params\n",
        "# Perform structural refinement with OpenMM\n",
        "do_refine = True #@param {type:\"boolean\"}\n",
        "# Renumber predicted antibody structure (Chothia) with AbNumber\n",
        "do_renum = False #@param {type:\"boolean\"}\n",
        "# Use only a single model for predictions (instead of model ensemble)\n",
        "single_model = False #@param {type:\"boolean\"}"
      ]
    },
    {
      "cell_type": "markdown",
      "metadata": {
        "id": "ubX6RPV9Ue0N"
      },
      "source": [
        "## Model"
      ]
    },
    {
      "cell_type": "code",
      "execution_count": null,
      "metadata": {
        "id": "yyvPSd68Ue0O"
      },
      "outputs": [],
      "source": [
        "# create model for pifold\n",
        "model = exp\n",
        "# cut H&L\n",
        "H_cutting,L_cutting = cut_CDR(H_seq,L_seq,num_scheme,def_scheme)"
      ]
    },
    {
      "cell_type": "code",
      "execution_count": null,
      "metadata": {
        "id": "h7xe7jC4Ue0O"
      },
      "outputs": [],
      "source": [
        "def run_a_loop(i):\n",
        "    # for a loop\n",
        "    sequences, pred = pred_pdb(H_seq,L_seq,do_refine,do_renum,single_model)\n",
        "    # get_rmsd\n",
        "\n",
        "\n",
        "    # get_fasta_pred\n",
        "    H_tmp,L_tmp = pred_fasta(model)\n",
        "    H_pred,L_pred = replace(H_cutting,L_cutting,H_tmp,L_tmp,\n",
        "                            if_H1 = True,\n",
        "                            if_H2 = True,\n",
        "                            if_H3 = True,\n",
        "                            if_L1 = True,\n",
        "                            if_L2 = True,\n",
        "                            if_L3 = True)\n",
        "    # store fasta_file\n",
        "    fasta_file = f'results/pred{i}.fasta'\n",
        "    with open(fasta_file, \"w\") as f:\n",
        "        f.write(f'>:H\\n')\n",
        "        f.write(H_pred+'\\n')\n",
        "        f.write(f'>:L\\n')\n",
        "        f.write(L_pred+'\\n')\n",
        "\n",
        "    # store pdb_file\n",
        "    if (i-1)>=0:\n",
        "        import shutil\n",
        "        src_file = 'cache/tmp.pdb'\n",
        "        dest_file = f'results/pred{i-1}.pdb'\n",
        "        shutil.move(src_file, dest_file)\n",
        "\n",
        "        prmsd_fig_file = f'results/prmsd{i-1}.png'\n",
        "        plot_prmsd(sequences, pred.prmsd.cpu(), prmsd_fig_file, shade_cdr=do_renum, pdb_file=pred_pdb)\n",
        "\n",
        "    return H_pred,L_pred"
      ]
    },
    {
      "cell_type": "code",
      "execution_count": null,
      "metadata": {
        "id": "cXYYfXknUe0P"
      },
      "outputs": [],
      "source": [
        "for i in range(num_loops):\n",
        "    H_seq,L_seq = run_a_loop(i)"
      ]
    }
  ],
  "metadata": {
    "colab": {
      "provenance": [],
      "include_colab_link": true
    },
    "kernelspec": {
      "display_name": "Python 3",
      "language": "python",
      "name": "python3"
    },
    "language_info": {
      "codemirror_mode": {
        "name": "ipython",
        "version": 3
      },
      "file_extension": ".py",
      "mimetype": "text/x-python",
      "name": "python",
      "nbconvert_exporter": "python",
      "pygments_lexer": "ipython3",
      "version": "3.9.0"
    }
  },
  "nbformat": 4,
  "nbformat_minor": 0
}